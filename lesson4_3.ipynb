{
 "cells": [
  {
   "cell_type": "code",
   "execution_count": null,
   "metadata": {},
   "outputs": [],
   "source": []
  },
  {
   "cell_type": "code",
   "execution_count": 14,
   "metadata": {},
   "outputs": [
    {
     "name": "stdout",
     "output_type": "stream",
     "text": [
      "請輸入學生分數(0~100):30分 為 不及格\n"
     ]
    }
   ],
   "source": [
    "import pyinputplus as pyip\n",
    "score = pyip.inputNum(prompt='請輸入學生分數(0~100):', min =0, max =100)\n",
    "if score ==100: print(f\"{score}分 為 滿分\")\n",
    "if score >= 80: print(f\"{score}分 為 優\")\n",
    "elif score >=60: print(f\"{score}分 為 及格\")\n",
    "else: print(f\"{score}分 為 不及格\")"
   ]
  }
 ],
 "metadata": {
  "kernelspec": {
   "display_name": "Python 3",
   "language": "python",
   "name": "python3"
  },
  "language_info": {
   "codemirror_mode": {
    "name": "ipython",
    "version": 3
   },
   "file_extension": ".py",
   "mimetype": "text/x-python",
   "name": "python",
   "nbconvert_exporter": "python",
   "pygments_lexer": "ipython3",
   "version": "3.10.13"
  }
 },
 "nbformat": 4,
 "nbformat_minor": 2
}
