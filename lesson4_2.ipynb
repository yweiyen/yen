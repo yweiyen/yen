{
 "cells": [
  {
   "cell_type": "code",
<<<<<<< Updated upstream
   "execution_count": 6,
   "metadata": {},
   "outputs": [
    {
     "name": "stdout",
     "output_type": "stream",
     "text": [
      "Blank values are not allowed.\n",
      "Blank values are not allowed.\n"
     ]
    },
    {
     "data": {
      "text/plain": [
       "5"
      ]
     },
     "execution_count": 6,
     "metadata": {},
     "output_type": "execute_result"
=======
   "execution_count": 5,
   "metadata": {},
   "outputs": [
    {
     "ename": "ModuleNotFoundError",
     "evalue": "No module named 'pyinputplus'",
     "output_type": "error",
     "traceback": [
      "\u001b[1;31m---------------------------------------------------------------------------\u001b[0m",
      "\u001b[1;31mModuleNotFoundError\u001b[0m                       Traceback (most recent call last)",
      "\u001b[1;32mc:\\Users\\yweiy\\Documents\\GitHub\\yen\\lesson4_2.ipynb Cell 1\u001b[0m line \u001b[0;36m1\n\u001b[1;32m----> <a href='vscode-notebook-cell:/c%3A/Users/yweiy/Documents/GitHub/yen/lesson4_2.ipynb#W0sZmlsZQ%3D%3D?line=0'>1</a>\u001b[0m \u001b[39mimport\u001b[39;00m \u001b[39mpyinputplus\u001b[39;00m \u001b[39mas\u001b[39;00m \u001b[39mpyip\u001b[39;00m\n\u001b[0;32m      <a href='vscode-notebook-cell:/c%3A/Users/yweiy/Documents/GitHub/yen/lesson4_2.ipynb#W0sZmlsZQ%3D%3D?line=2'>3</a>\u001b[0m result \u001b[39m=\u001b[39m pyip\u001b[39m.\u001b[39minputNum(\u001b[39mmin\u001b[39m\u001b[39m=\u001b[39m\u001b[39m4\u001b[39m, \u001b[39mmax\u001b[39m\u001b[39m=\u001b[39m\u001b[39m6\u001b[39m)\n\u001b[0;32m      <a href='vscode-notebook-cell:/c%3A/Users/yweiy/Documents/GitHub/yen/lesson4_2.ipynb#W0sZmlsZQ%3D%3D?line=3'>4</a>\u001b[0m result\n",
      "\u001b[1;31mModuleNotFoundError\u001b[0m: No module named 'pyinputplus'"
     ]
>>>>>>> Stashed changes
    }
   ],
   "source": [
    "import pyinputplus as pyip\n",
    "\n",
    "result = pyip.inputNum(min=4, max=6)\n",
    "result\n"
   ]
  },
  {
   "cell_type": "code",
<<<<<<< Updated upstream
   "execution_count": 7,
=======
   "execution_count": null,
>>>>>>> Stashed changes
   "metadata": {},
   "outputs": [
    {
     "name": "stdout",
     "output_type": "stream",
     "text": [
      "請輸入學生分數(最高300分):\n"
     ]
    },
    {
     "ename": "NameError",
     "evalue": "name 'pyip' is not defined",
     "output_type": "error",
     "traceback": [
      "\u001b[1;31m---------------------------------------------------------------------------\u001b[0m",
      "\u001b[1;31mNameError\u001b[0m                                 Traceback (most recent call last)",
      "\u001b[1;32mc:\\Users\\yweiy\\Documents\\GitHub\\yen\\lesson4_2.ipynb Cell 2\u001b[0m line \u001b[0;36m2\n\u001b[0;32m      <a href='vscode-notebook-cell:/c%3A/Users/yweiy/Documents/GitHub/yen/lesson4_2.ipynb#W1sZmlsZQ%3D%3D?line=0'>1</a>\u001b[0m \u001b[39mprint\u001b[39m(\u001b[39m\"\u001b[39m\u001b[39m請輸入學生分數(最高300分):\u001b[39m\u001b[39m\"\u001b[39m)\n\u001b[1;32m----> <a href='vscode-notebook-cell:/c%3A/Users/yweiy/Documents/GitHub/yen/lesson4_2.ipynb#W1sZmlsZQ%3D%3D?line=1'>2</a>\u001b[0m scores \u001b[39m=\u001b[39m pyip\u001b[39m.\u001b[39minputNum(\u001b[39mmin\u001b[39m\u001b[39m=\u001b[39m\u001b[39m0\u001b[39m, \u001b[39mmax\u001b[39m\u001b[39m=\u001b[39m\u001b[39m300\u001b[39m)\n\u001b[0;32m      <a href='vscode-notebook-cell:/c%3A/Users/yweiy/Documents/GitHub/yen/lesson4_2.ipynb#W1sZmlsZQ%3D%3D?line=2'>3</a>\u001b[0m \u001b[39mprint\u001b[39m(scores)\n\u001b[0;32m      <a href='vscode-notebook-cell:/c%3A/Users/yweiy/Documents/GitHub/yen/lesson4_2.ipynb#W1sZmlsZQ%3D%3D?line=3'>4</a>\u001b[0m \u001b[39mif\u001b[39;00m scores \u001b[39m<\u001b[39m\u001b[39m=\u001b[39m \u001b[39m300\u001b[39m:\n",
      "\u001b[1;31mNameError\u001b[0m: name 'pyip' is not defined"
     ]
    }
   ],
   "source": [
    "print(\"請輸入學生分數(最高300分):\")\n",
    "scores = pyip.inputNum(min=0, max=300)\n",
    "print(scores)\n",
    "if scores <= 300:\n",
    "        is_add = input(\"學生是否符合加分條件?(y,n)\")\n",
    "        #巢狀判斷\n",
    "        if is_add == \"y\":\n",
    "            scores *= 1.05\n",
    "            if scores > 300:\n",
    "                scores = 300\n",
    "\n",
    "        print(f\"學生分數是:{scores}\")"
   ]
  },
  {
   "cell_type": "code",
   "execution_count": null,
   "metadata": {},
<<<<<<< Updated upstream
   "outputs": [],
=======
   "outputs": [
    {
     "name": "stdout",
     "output_type": "stream",
     "text": [
      "請輸入學生分數(最高300分):\n"
     ]
    },
    {
     "ename": "NameError",
     "evalue": "name 'pyip' is not defined",
     "output_type": "error",
     "traceback": [
      "\u001b[1;31m---------------------------------------------------------------------------\u001b[0m",
      "\u001b[1;31mNameError\u001b[0m                                 Traceback (most recent call last)",
      "\u001b[1;32mc:\\Users\\yweiy\\Documents\\GitHub\\yen\\lesson4_2.ipynb Cell 3\u001b[0m line \u001b[0;36m2\n\u001b[0;32m      <a href='vscode-notebook-cell:/c%3A/Users/yweiy/Documents/GitHub/yen/lesson4_2.ipynb#W2sZmlsZQ%3D%3D?line=0'>1</a>\u001b[0m \u001b[39mprint\u001b[39m(\u001b[39m\"\u001b[39m\u001b[39m請輸入學生分數(最高300分):\u001b[39m\u001b[39m\"\u001b[39m)\n\u001b[1;32m----> <a href='vscode-notebook-cell:/c%3A/Users/yweiy/Documents/GitHub/yen/lesson4_2.ipynb#W2sZmlsZQ%3D%3D?line=1'>2</a>\u001b[0m scores \u001b[39m=\u001b[39m pyip\u001b[39m.\u001b[39minputNum(\u001b[39mmin\u001b[39m\u001b[39m=\u001b[39m\u001b[39m0\u001b[39m, \u001b[39mmax\u001b[39m\u001b[39m=\u001b[39m\u001b[39m300\u001b[39m)\n\u001b[0;32m      <a href='vscode-notebook-cell:/c%3A/Users/yweiy/Documents/GitHub/yen/lesson4_2.ipynb#W2sZmlsZQ%3D%3D?line=2'>3</a>\u001b[0m \u001b[39mprint\u001b[39m(scores)\n\u001b[0;32m      <a href='vscode-notebook-cell:/c%3A/Users/yweiy/Documents/GitHub/yen/lesson4_2.ipynb#W2sZmlsZQ%3D%3D?line=3'>4</a>\u001b[0m is_add \u001b[39m=\u001b[39m \u001b[39minput\u001b[39m(\u001b[39m\"\u001b[39m\u001b[39m學生是否符合加分條件?(y,n)\u001b[39m\u001b[39m\"\u001b[39m)\n",
      "\u001b[1;31mNameError\u001b[0m: name 'pyip' is not defined"
     ]
    }
   ],
>>>>>>> Stashed changes
   "source": [
    "print(\"請輸入學生分數(最高300分):\")\n",
    "scores = pyip.inputNum(min=0, max=300)\n",
    "print(scores)\n",
    "is_add = input(\"學生是否符合加分條件?(y,n)\")\n",
    "#巢狀判斷\n",
    "if is_add == \"y\":\n",
    "    scores *= 1.05\n",
    "    if scores > 300:\n",
    "        scores = 300\n",
    "\n",
    "print(f\"學生分數是:{scores}\")"
   ]
  },
  {
   "cell_type": "code",
   "execution_count": 8,
   "metadata": {},
   "outputs": [
    {
<<<<<<< Updated upstream
     "name": "stdout",
     "output_type": "stream",
     "text": [
      "請輸入學生分數(最高300分):270\n",
      "學生是否符合加分條件?(y,n)學生分數是:270\n"
=======
     "ename": "NameError",
     "evalue": "name 'pyip' is not defined",
     "output_type": "error",
     "traceback": [
      "\u001b[1;31m---------------------------------------------------------------------------\u001b[0m",
      "\u001b[1;31mNameError\u001b[0m                                 Traceback (most recent call last)",
      "\u001b[1;32mc:\\Users\\yweiy\\Documents\\GitHub\\yen\\lesson4_2.ipynb Cell 4\u001b[0m line \u001b[0;36m1\n\u001b[1;32m----> <a href='vscode-notebook-cell:/c%3A/Users/yweiy/Documents/GitHub/yen/lesson4_2.ipynb#W3sZmlsZQ%3D%3D?line=0'>1</a>\u001b[0m scores \u001b[39m=\u001b[39m pyip\u001b[39m.\u001b[39minputNum(prompt\u001b[39m=\u001b[39m\u001b[39m'\u001b[39m\u001b[39m請輸入學生分數(最高300分):\u001b[39m\u001b[39m'\u001b[39m,\u001b[39mmin\u001b[39m\u001b[39m=\u001b[39m\u001b[39m0\u001b[39m, \u001b[39mmax\u001b[39m\u001b[39m=\u001b[39m\u001b[39m300\u001b[39m)\n\u001b[0;32m      <a href='vscode-notebook-cell:/c%3A/Users/yweiy/Documents/GitHub/yen/lesson4_2.ipynb#W3sZmlsZQ%3D%3D?line=1'>2</a>\u001b[0m \u001b[39mprint\u001b[39m(scores)\n\u001b[0;32m      <a href='vscode-notebook-cell:/c%3A/Users/yweiy/Documents/GitHub/yen/lesson4_2.ipynb#W3sZmlsZQ%3D%3D?line=2'>3</a>\u001b[0m is_add \u001b[39m=\u001b[39m pyip\u001b[39m.\u001b[39minputYesNo(\u001b[39m\"\u001b[39m\u001b[39m學生是否符合加分條件?(y,n)\u001b[39m\u001b[39m\"\u001b[39m,yesVal\u001b[39m=\u001b[39m\u001b[39m'\u001b[39m\u001b[39my\u001b[39m\u001b[39m'\u001b[39m,noVal\u001b[39m=\u001b[39m\u001b[39m'\u001b[39m\u001b[39mn\u001b[39m\u001b[39m'\u001b[39m,blank\u001b[39m=\u001b[39m\u001b[39mTrue\u001b[39;00m,default\u001b[39m=\u001b[39m\u001b[39m'\u001b[39m\u001b[39mn\u001b[39m\u001b[39m'\u001b[39m)\n",
      "\u001b[1;31mNameError\u001b[0m: name 'pyip' is not defined"
>>>>>>> Stashed changes
     ]
    }
   ],
   "source": [
    "scores = pyip.inputNum(prompt='請輸入學生分數(最高300分):',min=0, max=300)\n",
    "print(scores)\n",
    "is_add = pyip.inputYesNo(\"學生是否符合加分條件?(y,n)\",yesVal='y',noVal='n',blank=True,default='n')\n",
    "#巢狀判斷\n",
    "if is_add == \"y\":\n",
    "    scores *= 1.05\n",
    "    if scores > 300:\n",
    "        scores = 300\n",
    "\n",
    "print(f\"學生分數是:{scores}\")"
   ]
  },
  {
   "cell_type": "code",
   "execution_count": 9,
   "metadata": {},
   "outputs": [
    {
     "name": "stdout",
     "output_type": "stream",
     "text": [
      "Help on function inputNum in module pyinputplus:\n",
      "\n",
      "inputNum(prompt='', default=None, blank=False, timeout=None, limit=None, strip=None, allowRegexes=None, blockRegexes=None, applyFunc=None, postValidateApplyFunc=None, min=None, max=None, greaterThan=None, lessThan=None)\n",
      "    Prompts the user to enter a number, either an integer or a floating-point\n",
      "    value. Returns an int or float value (depending on if the user entered a\n",
      "    decimal in their input.)\n",
      "    \n",
      "    Run ``help(pyinputplus.parameters)`` for an explanation of the common parameters.\n",
      "    \n",
      "    * ``min`` (None, float): If not ``None``, the minimum accepted numeric value, including the minimum argument.\n",
      "    * ``max`` (None, float): If not ``None``, the maximum accepted numeric value, including the maximum argument.\n",
      "    * ``greaterThan`` (None, float): If not ``None``, the minimum accepted numeric value, not including the ``greaterThan`` argument.\n",
      "    * ``lessThan`` (None, float): If not ``None``, the maximum accepted numeric value, not including the ``lessThan`` argument.\n",
      "    \n",
      "    >>> import pyinputplus as pyip\n",
      "    >>> response = pyip.inputNum()\n",
      "    forty two\n",
      "    'forty two' is not a number.\n",
      "    42\n",
      "    >>> response\n",
      "    42\n",
      "    >>> response = pyip.inputNum()\n",
      "    9\n",
      "    >>> type(response)\n",
      "    <class 'int'>\n",
      "    >>> response = pyip.inputNum()\n",
      "    9.0\n",
      "    >>> type(response)\n",
      "    <class 'float'>\n",
      "    >>> response = pyip.inputNum(min=4)\n",
      "    3\n",
      "    Number must be at minimum 4.\n",
      "    4\n",
      "    >>> response\n",
      "    4\n",
      "    >>> response = pyip.inputNum(greaterThan=4)\n",
      "    4\n",
      "    Number must be greater than 4.\n",
      "    4.1\n",
      "    >>> response\n",
      "    4.1\n",
      "    >>> response = pyip.inputNum(limit=2)\n",
      "    dog\n",
      "    'dog' is not a number.\n",
      "    cat\n",
      "    'cat' is not a number.\n",
      "    Traceback (most recent call last):\n",
      "        ...\n",
      "    pyinputplus.RetryLimitException\n",
      "\n"
     ]
    }
   ],
   "source": [
    "help(pyip.inputNum)"
   ]
  },
  {
   "cell_type": "code",
   "execution_count": 4,
   "metadata": {},
   "outputs": [
    {
     "ename": "NameError",
     "evalue": "name 'pyip' is not defined",
     "output_type": "error",
     "traceback": [
      "\u001b[0;31m---------------------------------------------------------------------------\u001b[0m",
      "\u001b[0;31mNameError\u001b[0m                                 Traceback (most recent call last)",
      "\u001b[1;32m/workspaces/yen/lesson4_2.ipynb Cell 6\u001b[0m line \u001b[0;36m1\n\u001b[0;32m----> <a href='vscode-notebook-cell://codespaces%2Bideal-robot-7q6xjq4q4v7cr6w9/workspaces/yen/lesson4_2.ipynb#W5sdnNjb2RlLXJlbW90ZQ%3D%3D?line=0'>1</a>\u001b[0m help(pyip)\n",
      "\u001b[0;31mNameError\u001b[0m: name 'pyip' is not defined"
     ]
    }
   ],
   "source": [
    "help(pyip)"
   ]
  }
 ],
 "metadata": {
  "kernelspec": {
   "display_name": "Python 3",
   "language": "python",
   "name": "python3"
  },
  "language_info": {
   "codemirror_mode": {
    "name": "ipython",
    "version": 3
   },
   "file_extension": ".py",
   "mimetype": "text/x-python",
   "name": "python",
   "nbconvert_exporter": "python",
   "pygments_lexer": "ipython3",
   "version": "3.11.4"
  }
 },
 "nbformat": 4,
 "nbformat_minor": 2
}
