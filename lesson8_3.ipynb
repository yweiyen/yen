{
 "cells": [
  {
   "cell_type": "code",
   "execution_count": null,
   "metadata": {},
   "outputs": [],
   "source": []
  },
  {
   "cell_type": "code",
   "execution_count": null,
   "metadata": {},
   "outputs": [],
   "source": [
    "import math\n",
    "import pyinputplus as pyip\n",
    "\n",
    "#會值出值的function\n",
    "def circle_area(radius):\n",
    "    area = math.pi * radius ** 2\n",
    "    return area\n",
    "\n",
    "radius = pyip.inputFloat(\"請輸入半徑:\")\n",
    "print(radius)\n",
    "area = circle_area(radius)\n",
    "print(f\"半徑:{radius:.2f},面積為:{area:.2f}\")"
   ]
  },
  {
   "cell_type": "code",
   "execution_count": null,
   "metadata": {},
   "outputs": [],
   "source": [
    "import math\n",
    "import pyinputplus as pyip\n",
    "\n",
    "#會值出值的function\n",
    "def circle_area(radius:int | float)->float:\n",
    "    area = math.pi * radius ** 2\n",
    "    return area\n",
    "\n",
    "radius = pyip.inputFloat(\"請輸入半徑:\")\n",
    "print(radius)\n",
    "area = circle_area(10)\n",
    "print(f\"半徑:{radius:.2f},面積為:{area:.2f}\")"
   ]
  },
  {
   "cell_type": "code",
   "execution_count": null,
   "metadata": {},
   "outputs": [],
   "source": [
    "#  輸入顧客購買金額，若金額在\n",
    "# 100000元打8折.\n",
    "# 50000打85折.\n",
    "# 30000打9折.\n",
    "# 10000打95折.\n",
    "# \n",
    "\n",
    "import pyinputplus as pyip\n",
    "\n",
    "Price = pyip.inputInt('輸入顧客購買金額',min=0)\n",
    "Rate = 1\n",
    "if Price >=100000:\n",
    "    Rate = 0.8 \n",
    "elif Price >= 50000:\n",
    "    Rate = 0.85\n",
    "elif Price>= 30000:\n",
    "    Rate = 0.9\n",
    "elif Price>= 10000:\n",
    "    Rate = 0.95\n",
    "Discount = Price * Rate   \n",
    "    \n",
    "print(f'打折後應付金額{Discount:.1f}')"
   ]
  },
  {
   "cell_type": "code",
   "execution_count": 5,
   "metadata": {},
   "outputs": [
    {
     "ename": "TclError",
     "evalue": "no display name and no $DISPLAY environment variable",
     "output_type": "error",
     "traceback": [
      "\u001b[0;31m---------------------------------------------------------------------------\u001b[0m",
      "\u001b[0;31mTclError\u001b[0m                                  Traceback (most recent call last)",
      "Cell \u001b[0;32mIn[5], line 29\u001b[0m\n\u001b[1;32m     25\u001b[0m     tk\u001b[38;5;241m.\u001b[39mLabel(master, text\u001b[38;5;241m=\u001b[39mstr_1)\u001b[38;5;241m.\u001b[39mgrid(row\u001b[38;5;241m=\u001b[39m\u001b[38;5;241m1\u001b[39m, column\u001b[38;5;241m=\u001b[39m\u001b[38;5;241m2\u001b[39m)\n\u001b[1;32m     28\u001b[0m \u001b[38;5;66;03m# Create the master object\u001b[39;00m\n\u001b[0;32m---> 29\u001b[0m master \u001b[38;5;241m=\u001b[39m \u001b[43mtk\u001b[49m\u001b[38;5;241;43m.\u001b[39;49m\u001b[43mTk\u001b[49m\u001b[43m(\u001b[49m\u001b[43m)\u001b[49m\n\u001b[1;32m     30\u001b[0m master\u001b[38;5;241m.\u001b[39mtitle(\u001b[38;5;124m\"\u001b[39m\u001b[38;5;124m高血壓判斷\u001b[39m\u001b[38;5;124m\"\u001b[39m)\n\u001b[1;32m     31\u001b[0m master\u001b[38;5;241m.\u001b[39mgeometry(\u001b[38;5;124m\"\u001b[39m\u001b[38;5;124m500x500\u001b[39m\u001b[38;5;124m\"\u001b[39m)\n",
      "File \u001b[0;32m/usr/local/lib/python3.10/tkinter/__init__.py:2299\u001b[0m, in \u001b[0;36mTk.__init__\u001b[0;34m(self, screenName, baseName, className, useTk, sync, use)\u001b[0m\n\u001b[1;32m   2297\u001b[0m         baseName \u001b[38;5;241m=\u001b[39m baseName \u001b[38;5;241m+\u001b[39m ext\n\u001b[1;32m   2298\u001b[0m interactive \u001b[38;5;241m=\u001b[39m \u001b[38;5;28;01mFalse\u001b[39;00m\n\u001b[0;32m-> 2299\u001b[0m \u001b[38;5;28mself\u001b[39m\u001b[38;5;241m.\u001b[39mtk \u001b[38;5;241m=\u001b[39m \u001b[43m_tkinter\u001b[49m\u001b[38;5;241;43m.\u001b[39;49m\u001b[43mcreate\u001b[49m\u001b[43m(\u001b[49m\u001b[43mscreenName\u001b[49m\u001b[43m,\u001b[49m\u001b[43m \u001b[49m\u001b[43mbaseName\u001b[49m\u001b[43m,\u001b[49m\u001b[43m \u001b[49m\u001b[43mclassName\u001b[49m\u001b[43m,\u001b[49m\u001b[43m \u001b[49m\u001b[43minteractive\u001b[49m\u001b[43m,\u001b[49m\u001b[43m \u001b[49m\u001b[43mwantobjects\u001b[49m\u001b[43m,\u001b[49m\u001b[43m \u001b[49m\u001b[43museTk\u001b[49m\u001b[43m,\u001b[49m\u001b[43m \u001b[49m\u001b[43msync\u001b[49m\u001b[43m,\u001b[49m\u001b[43m \u001b[49m\u001b[43muse\u001b[49m\u001b[43m)\u001b[49m\n\u001b[1;32m   2300\u001b[0m \u001b[38;5;28;01mif\u001b[39;00m useTk:\n\u001b[1;32m   2301\u001b[0m     \u001b[38;5;28mself\u001b[39m\u001b[38;5;241m.\u001b[39m_loadtk()\n",
      "\u001b[0;31mTclError\u001b[0m: no display name and no $DISPLAY environment variable"
     ]
    }
   ],
   "source": [
    "import tkinter as tk\n",
    "from tkinter import ttk\n",
    "from tkinter import *\n",
    "\n",
    "#按紐 Clicked 事件\n",
    "def btn_1_clicked():\n",
    "    global e1,e2,tk,lb4,str_1\n",
    "    nSBP = int (e1.get()) #收縮壓\n",
    "    nDBP = int (e2.get()) #舒張壓\n",
    "\n",
    "    str_1=''\n",
    "    if  nSBP< 120 and  nDBP<80:\n",
    "        str_1 =  \"正常\"\n",
    "    elif (nSBP >= 120 and nSBP<=129) and (nDBP < 80):\n",
    "        str_1=  \"血壓升高\"\n",
    "    elif (nSBP >= 130) and  (nDBP < 80 ):\n",
    "        str_1= \"單純收縮期高壓\"  \n",
    "    elif (nSBP >= 130 and nSBP <= 139) or (nDBP >= 80 and nDBP <= 89 ):\n",
    "        str_1=  \"血壓第一期\"\n",
    "    elif nSBP >= 140  or nDBP >= 90 :\n",
    "        str_1=  \"血壓第二期\"\n",
    "    else:\n",
    "        str_1=\"超出範圍,系統無法判定\"\n",
    "\n",
    "    tk.Label(master, text=str_1).grid(row=1, column=2)\n",
    "\n",
    "    \n",
    "# Create the master object\n",
    "master = tk.Tk()\n",
    "master.title(\"高血壓判斷\")\n",
    "master.geometry(\"500x500\")\n",
    "\n",
    "# Create the label objects and pack them using grid\n",
    "tk.Label(master, text=\"請輸入收縮壓[mmHg]\").grid(row=0, column=0)\n",
    "tk.Label(master, text=\"請輸入舒張壓[mmHg]\").grid(row=0, column=1)\n",
    "tk.Label(master, text=\"高血壓判斷結果\").grid(row=0, column=2)\n",
    "\n",
    "# Create the entry objects using master\n",
    "e1 = tk.Entry(master)\n",
    "e2 = tk.Entry(master)\n",
    "\n",
    "\n",
    "#控件_按紐\n",
    "str_1=''\n",
    "# Pack them using grid\n",
    "e1.grid(row=1, column=0)\n",
    "e2.grid(row=1, column=1)\n",
    "\n",
    "btn_1 = Button(master,text=\" 高血壓判斷 \",  command=btn_1_clicked)\n",
    "btn_1.place(x=300, y=160, anchor=NW)\n",
    "\n",
    "\n",
    "\n",
    "\n"
   ]
  },
  {
   "cell_type": "code",
   "execution_count": 23,
   "metadata": {},
   "outputs": [
    {
     "name": "stdout",
     "output_type": "stream",
     "text": [
      "請輸入收縮壓:130\n",
      "請輸入舒張壓:79\n",
      "suggestion = 單純收縮期高血壓\n"
     ]
    }
   ],
   "source": [
    "import pyinputplus as pyip\n",
    "\n",
    "sbp = pyip.inputInt(\"請輸入收縮壓:\", min= 0)\n",
    "print(sbp)\n",
    "dbp = pyip.inputInt(\"請輸入舒張壓:\", min= 0)\n",
    "print(dbp)\n",
    "\n",
    "if sbp < 120 and dbp < 80:\n",
    "    suggestion = '正常'\n",
    "elif 120 <= sbp <= 129 and dbp < 80:\n",
    "    suggestion = '血壓升高'\n",
    "elif 130 <= sbp and dbp < 80:\n",
    "    suggestion = '單純收縮期高血壓'\n",
    "elif 130 <= sbp <= 139 or 80 <= dbp <= 89:\n",
    "    suggestion = '高血壓一期'\n",
    "elif 140 <= sbp or 90 <= dbp:\n",
    "    suggestion = '高血壓二期'\n",
    "else:\n",
    "    suggestion = '未知區間'\n",
    "\n",
    "print(f'suggestion = {suggestion}')"
   ]
  }
 ],
 "metadata": {
  "kernelspec": {
   "display_name": "Python 3",
   "language": "python",
   "name": "python3"
  },
  "language_info": {
   "codemirror_mode": {
    "name": "ipython",
    "version": 3
   },
   "file_extension": ".py",
   "mimetype": "text/x-python",
   "name": "python",
   "nbconvert_exporter": "python",
   "pygments_lexer": "ipython3",
   "version": "3.10.13"
  }
 },
 "nbformat": 4,
 "nbformat_minor": 2
}
