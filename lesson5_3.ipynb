{
 "cells": [
  {
   "cell_type": "code",
   "execution_count": null,
   "metadata": {},
   "outputs": [],
   "source": [
    "\n"
   ]
  },
  {
   "cell_type": "code",
   "execution_count": 1,
   "metadata": {},
   "outputs": [
    {
     "name": "stdout",
     "output_type": "stream",
     "text": [
      "1...10總和是:55\n"
     ]
    }
   ],
   "source": [
    "#1加到10的總和\n",
    "\n",
    "value = 0\n",
    "value += 1\n",
    "value += 2\n",
    "value += 3\n",
    "value += 4\n",
    "value += 5\n",
    "value += 6\n",
    "value += 7\n",
    "value += 8\n",
    "value += 9\n",
    "value += 10\n",
    "\n",
    "print(f\"1...10總和是:{value}\")\n"
   ]
  },
  {
   "cell_type": "code",
   "execution_count": null,
   "metadata": {},
   "outputs": [],
   "source": []
  },
  {
   "cell_type": "code",
   "execution_count": 2,
   "metadata": {},
   "outputs": [
    {
     "name": "stdout",
     "output_type": "stream",
     "text": [
      "1....1000的總和是:500500\n"
     ]
    }
   ],
   "source": [
    "value = 0\n",
    "for i in range(1,1001):\n",
    "    value += i\n",
    "\n",
    "print(f\"1....1000的總和是:{value}\")\n"
   ]
  },
  {
   "cell_type": "code",
   "execution_count": null,
   "metadata": {},
   "outputs": [],
   "source": []
  },
  {
   "cell_type": "code",
   "execution_count": null,
   "metadata": {},
   "outputs": [],
   "source": []
  },
  {
   "cell_type": "code",
   "execution_count": 6,
   "metadata": {},
   "outputs": [
    {
     "name": "stdout",
     "output_type": "stream",
     "text": [
      "請輸入起始值:(0以上)0\n",
      "請輸入結束值:10000以上10000\n",
      "0....10000的總和:50005000\n",
      "1....1000的總和是:50005000\n"
     ]
    }
   ],
   "source": [
    "import pyinputplus as pyip\n",
    "start = pyip.inputInt(\"請輸入起始值:(0以上)\",min=0,max=10000)\n",
    "print(start)\n",
    "end = pyip.inputInt(\"請輸入結束值:10000以上\",min=1,max=10000)\n",
    "print(end)\n",
    "\n",
    "value = 0\n",
    "for i in range(start,end+1):\n",
    "    value += i\n",
    "\n",
    "print(f\"{start}....{end}的總和:{value}\")\n",
    "\n",
    "print(f\"1....1000的總和是:{value}\")"
   ]
  }
 ],
 "metadata": {
  "kernelspec": {
   "display_name": "Python 3",
   "language": "python",
   "name": "python3"
  },
  "language_info": {
   "codemirror_mode": {
    "name": "ipython",
    "version": 3
   },
   "file_extension": ".py",
   "mimetype": "text/x-python",
   "name": "python",
   "nbconvert_exporter": "python",
   "pygments_lexer": "ipython3",
   "version": "3.10.13"
  }
 },
 "nbformat": 4,
 "nbformat_minor": 2
}
