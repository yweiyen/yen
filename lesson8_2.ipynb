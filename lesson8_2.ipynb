{
 "cells": [
  {
   "cell_type": "code",
   "execution_count": null,
   "metadata": {},
   "outputs": [],
   "source": [
    "#建立一個function\n",
    "#每有參數,沒有傳出值的function\n",
    "#沒有, 靈活性最差\n",
    "def sayhello():\n",
    "    print(\"hello Python\")\n",
    "\n",
    "sayhello()\n",
    "sayhello()\n",
    "sayhello()"
   ]
  },
  {
   "cell_type": "code",
   "execution_count": null,
   "metadata": {},
   "outputs": [],
   "source": [
    "def sayhello(name):\n",
    "    print(\"hello! {name} !\")\n",
    "\n",
    "sayhello(\"徐\")\n",
    "sayhello(\"robert\")\n",
    "sayhello(\"jenny\")"
   ]
  },
  {
   "cell_type": "code",
   "execution_count": 2,
   "metadata": {},
   "outputs": [
    {
     "name": "stdout",
     "output_type": "stream",
     "text": [
      "hello! 徐 !\n",
      "hello! robert !\n",
      "hello! jenny !\n"
     ]
    }
   ],
   "source": [
    "def sayhello(name):\n",
    "    userName = name;\n",
    "    print(f'hello! {name} !')\n",
    "\n",
    "sayhello(\"徐\")\n",
    "sayhello(\"robert\")\n",
    "sayhello(\"jenny\")"
   ]
  },
  {
   "cell_type": "code",
   "execution_count": null,
   "metadata": {},
   "outputs": [],
   "source": []
  }
 ],
 "metadata": {
  "kernelspec": {
   "display_name": "Python 3",
   "language": "python",
   "name": "python3"
  },
  "language_info": {
   "codemirror_mode": {
    "name": "ipython",
    "version": 3
   },
   "file_extension": ".py",
   "mimetype": "text/x-python",
   "name": "python",
   "nbconvert_exporter": "python",
   "pygments_lexer": "ipython3",
   "version": "3.10.13"
  }
 },
 "nbformat": 4,
 "nbformat_minor": 2
}
