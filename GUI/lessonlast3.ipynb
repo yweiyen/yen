{
 "cells": [
  {
   "cell_type": "code",
   "execution_count": 3,
   "metadata": {},
   "outputs": [],
   "source": [
    "import streamlit as st\n",
    "import pandas as pd\n",
    "import requests\n",
    "\n",
    "st.title(\"Pico_W_職能發展協會專案\")\n",
    "st.header(\"雞舍:red[溫度]和:blue[光線]狀態\")\n",
    "st.divider()\n",
    "\n",
    "url = 'https://blynk.cloud/external/api/get?token=5Kcn_2ZsT0ViHAuKl5DrNhbsmA7nIEkK&v0&v1'\n",
    "\n",
    "response = requests.request(\"GET\",url)\n",
    "if response.status_code == 200:\n",
    "    all_data = response.json()\n",
    "    st.info(f'光線:{all_data[\"v0\"]}')\n",
    "    st.warning(f'可變電阻:{all_data[\"v1\"]}')\n",
    "else:\n",
    "    st.write(\"連線失敗,請等一下再試\")\n",
    "    \n",
    "\n",
    "\n",
    "    "
   ]
  }
 ],
 "metadata": {
  "kernelspec": {
   "display_name": "Python 3",
   "language": "python",
   "name": "python3"
  },
  "language_info": {
   "codemirror_mode": {
    "name": "ipython",
    "version": 3
   },
   "file_extension": ".py",
   "mimetype": "text/x-python",
   "name": "python",
   "nbconvert_exporter": "python",
   "pygments_lexer": "ipython3",
   "version": "3.10.13"
  }
 },
 "nbformat": 4,
 "nbformat_minor": 2
}
