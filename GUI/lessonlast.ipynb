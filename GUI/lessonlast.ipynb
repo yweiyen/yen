import requests

url = 'https://blynk.cloud/external/api/get?token=5Kcn_2ZsT0ViHAuKl5DrNhbsmA7nIEkK&v0&v1'

response = requests.request("GET",url)
if responde.stateus_code == 200:
    print(response.json())
    